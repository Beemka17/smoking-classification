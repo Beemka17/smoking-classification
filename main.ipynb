{
 "cells": [
  {
   "attachments": {},
   "cell_type": "markdown",
   "metadata": {},
   "source": [
    "# <font color='green'><b>Import Library and Dataset</b></font>"
   ]
  },
  {
   "cell_type": "code",
   "execution_count": 2,
   "metadata": {},
   "outputs": [],
   "source": [
    "import numpy as np\n",
    "import pandas as pd\n",
    "from sklearn.preprocessing import StandardScaler\n",
    "from sklearn.model_selection import train_test_split\n",
    "from sklearn import svm\n",
    "from sklearn.metrics import accuracy_score\n",
    "from sklearn.linear_model import LogisticRegression"
   ]
  },
  {
   "attachments": {},
   "cell_type": "markdown",
   "metadata": {},
   "source": [
    "# Import Dataset"
   ]
  },
  {
   "cell_type": "code",
   "execution_count": 3,
   "metadata": {},
   "outputs": [],
   "source": [
    "df=pd.read_csv('smoking.csv')"
   ]
  },
  {
   "cell_type": "code",
   "execution_count": 4,
   "metadata": {},
   "outputs": [
    {
     "data": {
      "text/html": [
       "<div>\n",
       "<style scoped>\n",
       "    .dataframe tbody tr th:only-of-type {\n",
       "        vertical-align: middle;\n",
       "    }\n",
       "\n",
       "    .dataframe tbody tr th {\n",
       "        vertical-align: top;\n",
       "    }\n",
       "\n",
       "    .dataframe thead th {\n",
       "        text-align: right;\n",
       "    }\n",
       "</style>\n",
       "<table border=\"1\" class=\"dataframe\">\n",
       "  <thead>\n",
       "    <tr style=\"text-align: right;\">\n",
       "      <th></th>\n",
       "      <th>ID</th>\n",
       "      <th>gender</th>\n",
       "      <th>age</th>\n",
       "      <th>height(cm)</th>\n",
       "      <th>weight(kg)</th>\n",
       "      <th>waist(cm)</th>\n",
       "      <th>eyesight(left)</th>\n",
       "      <th>eyesight(right)</th>\n",
       "      <th>hearing(left)</th>\n",
       "      <th>hearing(right)</th>\n",
       "      <th>...</th>\n",
       "      <th>hemoglobin</th>\n",
       "      <th>Urine protein</th>\n",
       "      <th>serum creatinine</th>\n",
       "      <th>AST</th>\n",
       "      <th>ALT</th>\n",
       "      <th>Gtp</th>\n",
       "      <th>oral</th>\n",
       "      <th>dental caries</th>\n",
       "      <th>tartar</th>\n",
       "      <th>smoking</th>\n",
       "    </tr>\n",
       "  </thead>\n",
       "  <tbody>\n",
       "    <tr>\n",
       "      <th>0</th>\n",
       "      <td>0</td>\n",
       "      <td>F</td>\n",
       "      <td>40</td>\n",
       "      <td>155</td>\n",
       "      <td>60</td>\n",
       "      <td>81.3</td>\n",
       "      <td>1.2</td>\n",
       "      <td>1.0</td>\n",
       "      <td>1.0</td>\n",
       "      <td>1.0</td>\n",
       "      <td>...</td>\n",
       "      <td>12.9</td>\n",
       "      <td>1.0</td>\n",
       "      <td>0.7</td>\n",
       "      <td>18.0</td>\n",
       "      <td>19.0</td>\n",
       "      <td>27.0</td>\n",
       "      <td>Y</td>\n",
       "      <td>0</td>\n",
       "      <td>Y</td>\n",
       "      <td>0</td>\n",
       "    </tr>\n",
       "    <tr>\n",
       "      <th>1</th>\n",
       "      <td>1</td>\n",
       "      <td>F</td>\n",
       "      <td>40</td>\n",
       "      <td>160</td>\n",
       "      <td>60</td>\n",
       "      <td>81.0</td>\n",
       "      <td>0.8</td>\n",
       "      <td>0.6</td>\n",
       "      <td>1.0</td>\n",
       "      <td>1.0</td>\n",
       "      <td>...</td>\n",
       "      <td>12.7</td>\n",
       "      <td>1.0</td>\n",
       "      <td>0.6</td>\n",
       "      <td>22.0</td>\n",
       "      <td>19.0</td>\n",
       "      <td>18.0</td>\n",
       "      <td>Y</td>\n",
       "      <td>0</td>\n",
       "      <td>Y</td>\n",
       "      <td>0</td>\n",
       "    </tr>\n",
       "    <tr>\n",
       "      <th>2</th>\n",
       "      <td>2</td>\n",
       "      <td>M</td>\n",
       "      <td>55</td>\n",
       "      <td>170</td>\n",
       "      <td>60</td>\n",
       "      <td>80.0</td>\n",
       "      <td>0.8</td>\n",
       "      <td>0.8</td>\n",
       "      <td>1.0</td>\n",
       "      <td>1.0</td>\n",
       "      <td>...</td>\n",
       "      <td>15.8</td>\n",
       "      <td>1.0</td>\n",
       "      <td>1.0</td>\n",
       "      <td>21.0</td>\n",
       "      <td>16.0</td>\n",
       "      <td>22.0</td>\n",
       "      <td>Y</td>\n",
       "      <td>0</td>\n",
       "      <td>N</td>\n",
       "      <td>1</td>\n",
       "    </tr>\n",
       "    <tr>\n",
       "      <th>3</th>\n",
       "      <td>3</td>\n",
       "      <td>M</td>\n",
       "      <td>40</td>\n",
       "      <td>165</td>\n",
       "      <td>70</td>\n",
       "      <td>88.0</td>\n",
       "      <td>1.5</td>\n",
       "      <td>1.5</td>\n",
       "      <td>1.0</td>\n",
       "      <td>1.0</td>\n",
       "      <td>...</td>\n",
       "      <td>14.7</td>\n",
       "      <td>1.0</td>\n",
       "      <td>1.0</td>\n",
       "      <td>19.0</td>\n",
       "      <td>26.0</td>\n",
       "      <td>18.0</td>\n",
       "      <td>Y</td>\n",
       "      <td>0</td>\n",
       "      <td>Y</td>\n",
       "      <td>0</td>\n",
       "    </tr>\n",
       "    <tr>\n",
       "      <th>4</th>\n",
       "      <td>4</td>\n",
       "      <td>F</td>\n",
       "      <td>40</td>\n",
       "      <td>155</td>\n",
       "      <td>60</td>\n",
       "      <td>86.0</td>\n",
       "      <td>1.0</td>\n",
       "      <td>1.0</td>\n",
       "      <td>1.0</td>\n",
       "      <td>1.0</td>\n",
       "      <td>...</td>\n",
       "      <td>12.5</td>\n",
       "      <td>1.0</td>\n",
       "      <td>0.6</td>\n",
       "      <td>16.0</td>\n",
       "      <td>14.0</td>\n",
       "      <td>22.0</td>\n",
       "      <td>Y</td>\n",
       "      <td>0</td>\n",
       "      <td>N</td>\n",
       "      <td>0</td>\n",
       "    </tr>\n",
       "  </tbody>\n",
       "</table>\n",
       "<p>5 rows × 27 columns</p>\n",
       "</div>"
      ],
      "text/plain": [
       "   ID gender  age  height(cm)  weight(kg)  waist(cm)  eyesight(left)  \\\n",
       "0   0      F   40         155          60       81.3             1.2   \n",
       "1   1      F   40         160          60       81.0             0.8   \n",
       "2   2      M   55         170          60       80.0             0.8   \n",
       "3   3      M   40         165          70       88.0             1.5   \n",
       "4   4      F   40         155          60       86.0             1.0   \n",
       "\n",
       "   eyesight(right)  hearing(left)  hearing(right)  ...  hemoglobin  \\\n",
       "0              1.0            1.0             1.0  ...        12.9   \n",
       "1              0.6            1.0             1.0  ...        12.7   \n",
       "2              0.8            1.0             1.0  ...        15.8   \n",
       "3              1.5            1.0             1.0  ...        14.7   \n",
       "4              1.0            1.0             1.0  ...        12.5   \n",
       "\n",
       "   Urine protein  serum creatinine   AST   ALT   Gtp  oral  dental caries  \\\n",
       "0            1.0               0.7  18.0  19.0  27.0     Y              0   \n",
       "1            1.0               0.6  22.0  19.0  18.0     Y              0   \n",
       "2            1.0               1.0  21.0  16.0  22.0     Y              0   \n",
       "3            1.0               1.0  19.0  26.0  18.0     Y              0   \n",
       "4            1.0               0.6  16.0  14.0  22.0     Y              0   \n",
       "\n",
       "   tartar  smoking  \n",
       "0       Y        0  \n",
       "1       Y        0  \n",
       "2       N        1  \n",
       "3       Y        0  \n",
       "4       N        0  \n",
       "\n",
       "[5 rows x 27 columns]"
      ]
     },
     "execution_count": 4,
     "metadata": {},
     "output_type": "execute_result"
    }
   ],
   "source": [
    "df.head()"
   ]
  },
  {
   "attachments": {},
   "cell_type": "markdown",
   "metadata": {},
   "source": [
    "-----"
   ]
  },
  {
   "attachments": {},
   "cell_type": "markdown",
   "metadata": {},
   "source": [
    "# <font color='green'><b>Business Understanding</b></font>\n",
    "\n",
    "Tujuan utama dari analisis klasifikasi perokok adalah untuk mengidentifikasi apakah seseorang termasuk dalam kategori perokok atau bukan. Hal ini dapat membantu organisasi, khususnya di bidang kesehatan, untuk memahami lebih baik perilaku perokok, serta untuk mengembangkan program pencegahan dan penghentian merokok. Analisis ini pun berusaha memahami korelasi antara kondisi kesehatan seseorang dengan kebiasaan merokoknya, dengan memahami korelasi tersebut, harapannya program-program pencegahan kebiasan merokok dapat menjadi lebih efektif."
   ]
  },
  {
   "cell_type": "markdown",
   "metadata": {},
   "source": [
    "-----"
   ]
  },
  {
   "attachments": {},
   "cell_type": "markdown",
   "metadata": {},
   "source": [
    "# <font color='green'><b>Data Understanding</b></font>\n",
    "\n",
    "Dataset ini berisi rangkuman kondisi kesehatan dan status perokok/tidak yang didapatkan melalui aktivitas medical checkup.\n",
    "\n",
    "Atribut yang terdapat didalam dataset ini:\n",
    "- ID : serial number given to a person.\n",
    "- gender: the gender of a person being either female(0) or male(1).\n",
    "- age : 5-years gap age groups.\n",
    "- height(cm)\n",
    "- weight(kg)\n",
    "- waist(cm) : Waist circumference length\n",
    "- eyesight(left): Denoted by a value between 0.1-2.5, or 9.9\n",
    "- eyesight(right): Denoted by a value between 0.1-2.5, or 9.9\n",
    "- hearing(left): hearing of the person's ear (1 - normal, 2 - abnormal)\n",
    "- hearing(right): hearing of the person's ear (1 - normal, 2 - abnormal)\n",
    "- systolic : blood pressure.\n",
    "- relaxation : blood pressure.\n",
    "- fasting blood sugar: blood sugar before meals level\n",
    "- Cholesterol : total\n",
    "- triglyceride\n",
    "- HDL : cholesterol type\n",
    "- LDL : cholesterol type\n",
    "- hemoglobin\n",
    "- Urine protein\n",
    "- serum creatinine\n",
    "- AST : glutamic oxaloacetic transaminase type\n",
    "- ALT : glutamic oxaloacetic transaminase type\n",
    "- Gtp : γ-GTP\n",
    "- oral : Oral Examination status (s whether the examinee accepted the oral examination).\n",
    "- dental caries\n",
    "- tartar : tartar status\n",
    "- smoking: smoking status of a person (1 - smoking, 0 - non-smoking)"
   ]
  },
  {
   "cell_type": "code",
   "execution_count": 5,
   "metadata": {},
   "outputs": [
    {
     "data": {
      "text/plain": [
       "(55692, 27)"
      ]
     },
     "execution_count": 5,
     "metadata": {},
     "output_type": "execute_result"
    }
   ],
   "source": [
    "df.shape"
   ]
  },
  {
   "cell_type": "markdown",
   "metadata": {},
   "source": [
    "-----"
   ]
  },
  {
   "attachments": {},
   "cell_type": "markdown",
   "metadata": {},
   "source": [
    "# <font color='green'><b>Data Preparation</b></font>"
   ]
  },
  {
   "cell_type": "code",
   "execution_count": 6,
   "metadata": {},
   "outputs": [
    {
     "name": "stdout",
     "output_type": "stream",
     "text": [
      "<class 'pandas.core.frame.DataFrame'>\n",
      "RangeIndex: 55692 entries, 0 to 55691\n",
      "Data columns (total 27 columns):\n",
      " #   Column               Non-Null Count  Dtype  \n",
      "---  ------               --------------  -----  \n",
      " 0   ID                   55692 non-null  int64  \n",
      " 1   gender               55692 non-null  object \n",
      " 2   age                  55692 non-null  int64  \n",
      " 3   height(cm)           55692 non-null  int64  \n",
      " 4   weight(kg)           55692 non-null  int64  \n",
      " 5   waist(cm)            55692 non-null  float64\n",
      " 6   eyesight(left)       55692 non-null  float64\n",
      " 7   eyesight(right)      55692 non-null  float64\n",
      " 8   hearing(left)        55692 non-null  float64\n",
      " 9   hearing(right)       55692 non-null  float64\n",
      " 10  systolic             55692 non-null  float64\n",
      " 11  relaxation           55692 non-null  float64\n",
      " 12  fasting blood sugar  55692 non-null  float64\n",
      " 13  Cholesterol          55692 non-null  float64\n",
      " 14  triglyceride         55692 non-null  float64\n",
      " 15  HDL                  55692 non-null  float64\n",
      " 16  LDL                  55692 non-null  float64\n",
      " 17  hemoglobin           55692 non-null  float64\n",
      " 18  Urine protein        55692 non-null  float64\n",
      " 19  serum creatinine     55692 non-null  float64\n",
      " 20  AST                  55692 non-null  float64\n",
      " 21  ALT                  55692 non-null  float64\n",
      " 22  Gtp                  55692 non-null  float64\n",
      " 23  oral                 55692 non-null  object \n",
      " 24  dental caries        55692 non-null  int64  \n",
      " 25  tartar               55692 non-null  object \n",
      " 26  smoking              55692 non-null  int64  \n",
      "dtypes: float64(18), int64(6), object(3)\n",
      "memory usage: 11.5+ MB\n"
     ]
    }
   ],
   "source": [
    "df.info()"
   ]
  },
  {
   "attachments": {},
   "cell_type": "markdown",
   "metadata": {},
   "source": [
    "# Merubah nama kolom agar menjadi lebih efisien"
   ]
  },
  {
   "cell_type": "code",
   "execution_count": 8,
   "metadata": {},
   "outputs": [],
   "source": [
    "df.rename(columns={'height(cm)':'height', 'weight(kg)':'weight','waist(cm)':'waist',\n",
    "                        'eyesight(left)':'eyesight_left', 'eyesight(right)':'eyesight_right',\n",
    "                        'hearing(left)':'hearing_left', 'hearing(right)':'hearing_right',\n",
    "                        'fasting blood sugar':'fasting_blood_sugar',  'Cholesterol':'cholesterol', \n",
    "                        'HDL':'hdl','LDL':'ldl','Urine protein':'urine_protein', \n",
    "                        'serum creatinine':'serum_creatinine', 'AST':'ast','ALT':'alt',\n",
    "                        'Gtp':'gtp', 'dental caries' : 'dental_caries'}, inplace=True)"
   ]
  },
  {
   "cell_type": "code",
   "execution_count": 9,
   "metadata": {},
   "outputs": [
    {
     "name": "stdout",
     "output_type": "stream",
     "text": [
      "<class 'pandas.core.frame.DataFrame'>\n",
      "RangeIndex: 55692 entries, 0 to 55691\n",
      "Data columns (total 27 columns):\n",
      " #   Column               Non-Null Count  Dtype  \n",
      "---  ------               --------------  -----  \n",
      " 0   ID                   55692 non-null  int64  \n",
      " 1   gender               55692 non-null  object \n",
      " 2   age                  55692 non-null  int64  \n",
      " 3   height               55692 non-null  int64  \n",
      " 4   weight               55692 non-null  int64  \n",
      " 5   waist                55692 non-null  float64\n",
      " 6   eyesight_left        55692 non-null  float64\n",
      " 7   eyesight_right       55692 non-null  float64\n",
      " 8   hearing_left         55692 non-null  float64\n",
      " 9   hearing_right        55692 non-null  float64\n",
      " 10  systolic             55692 non-null  float64\n",
      " 11  relaxation           55692 non-null  float64\n",
      " 12  fasting_blood_sugar  55692 non-null  float64\n",
      " 13  cholesterol          55692 non-null  float64\n",
      " 14  triglyceride         55692 non-null  float64\n",
      " 15  hdl                  55692 non-null  float64\n",
      " 16  ldl                  55692 non-null  float64\n",
      " 17  hemoglobin           55692 non-null  float64\n",
      " 18  urine_protein        55692 non-null  float64\n",
      " 19  serum_creatinine     55692 non-null  float64\n",
      " 20  ast                  55692 non-null  float64\n",
      " 21  alt                  55692 non-null  float64\n",
      " 22  gtp                  55692 non-null  float64\n",
      " 23  oral                 55692 non-null  object \n",
      " 24  dental_caries        55692 non-null  int64  \n",
      " 25  tartar               55692 non-null  object \n",
      " 26  smoking              55692 non-null  int64  \n",
      "dtypes: float64(18), int64(6), object(3)\n",
      "memory usage: 11.5+ MB\n"
     ]
    }
   ],
   "source": [
    "df.info()"
   ]
  },
  {
   "cell_type": "code",
   "execution_count": 10,
   "metadata": {},
   "outputs": [
    {
     "data": {
      "text/plain": [
       "ID                     0\n",
       "gender                 0\n",
       "age                    0\n",
       "height                 0\n",
       "weight                 0\n",
       "waist                  0\n",
       "eyesight_left          0\n",
       "eyesight_right         0\n",
       "hearing_left           0\n",
       "hearing_right          0\n",
       "systolic               0\n",
       "relaxation             0\n",
       "fasting_blood_sugar    0\n",
       "cholesterol            0\n",
       "triglyceride           0\n",
       "hdl                    0\n",
       "ldl                    0\n",
       "hemoglobin             0\n",
       "urine_protein          0\n",
       "serum_creatinine       0\n",
       "ast                    0\n",
       "alt                    0\n",
       "gtp                    0\n",
       "oral                   0\n",
       "dental_caries          0\n",
       "tartar                 0\n",
       "smoking                0\n",
       "dtype: int64"
      ]
     },
     "execution_count": 10,
     "metadata": {},
     "output_type": "execute_result"
    }
   ],
   "source": [
    "df.isna().sum()"
   ]
  },
  {
   "attachments": {},
   "cell_type": "markdown",
   "metadata": {},
   "source": [
    "# Convert object datatype into int/float"
   ]
  },
  {
   "attachments": {},
   "cell_type": "markdown",
   "metadata": {},
   "source": [
    "Convert dtype gender"
   ]
  },
  {
   "cell_type": "code",
   "execution_count": 11,
   "metadata": {},
   "outputs": [
    {
     "name": "stdout",
     "output_type": "stream",
     "text": [
      "0        F\n",
      "1        F\n",
      "2        M\n",
      "3        M\n",
      "4        F\n",
      "        ..\n",
      "55687    F\n",
      "55688    F\n",
      "55689    F\n",
      "55690    M\n",
      "55691    M\n",
      "Name: gender, Length: 55692, dtype: object\n"
     ]
    }
   ],
   "source": [
    "print(df['gender'])"
   ]
  },
  {
   "attachments": {},
   "cell_type": "markdown",
   "metadata": {},
   "source": [
    "Value Male akan diganti dengan Value 1, sedangkan Value Female akan diganti dengan Value 0"
   ]
  },
  {
   "cell_type": "code",
   "execution_count": 12,
   "metadata": {},
   "outputs": [],
   "source": [
    "df['gender'] = df['gender'].str.replace('F','0')\n",
    "df['gender'] = df['gender'].str.replace('M','1')"
   ]
  },
  {
   "cell_type": "code",
   "execution_count": 13,
   "metadata": {},
   "outputs": [
    {
     "name": "stdout",
     "output_type": "stream",
     "text": [
      "0        0\n",
      "1        0\n",
      "2        1\n",
      "3        1\n",
      "4        0\n",
      "        ..\n",
      "55687    0\n",
      "55688    0\n",
      "55689    0\n",
      "55690    1\n",
      "55691    1\n",
      "Name: gender, Length: 55692, dtype: object\n"
     ]
    }
   ],
   "source": [
    "print(df['gender'])"
   ]
  },
  {
   "attachments": {},
   "cell_type": "markdown",
   "metadata": {},
   "source": [
    "Merubah gender dtype, dari object menjadi int64"
   ]
  },
  {
   "cell_type": "code",
   "execution_count": 14,
   "metadata": {},
   "outputs": [],
   "source": [
    "df['gender'] = pd.to_numeric(df['gender'])"
   ]
  },
  {
   "cell_type": "code",
   "execution_count": 15,
   "metadata": {},
   "outputs": [
    {
     "name": "stdout",
     "output_type": "stream",
     "text": [
      "0        0\n",
      "1        0\n",
      "2        1\n",
      "3        1\n",
      "4        0\n",
      "        ..\n",
      "55687    0\n",
      "55688    0\n",
      "55689    0\n",
      "55690    1\n",
      "55691    1\n",
      "Name: gender, Length: 55692, dtype: int64\n"
     ]
    }
   ],
   "source": [
    "print(df['gender'])"
   ]
  },
  {
   "attachments": {},
   "cell_type": "markdown",
   "metadata": {},
   "source": [
    "Convert dtype tartar"
   ]
  },
  {
   "cell_type": "code",
   "execution_count": 16,
   "metadata": {},
   "outputs": [
    {
     "name": "stdout",
     "output_type": "stream",
     "text": [
      "0        Y\n",
      "1        Y\n",
      "2        N\n",
      "3        Y\n",
      "4        N\n",
      "        ..\n",
      "55687    Y\n",
      "55688    Y\n",
      "55689    N\n",
      "55690    N\n",
      "55691    Y\n",
      "Name: tartar, Length: 55692, dtype: object\n"
     ]
    }
   ],
   "source": [
    "print(df['tartar'])"
   ]
  },
  {
   "attachments": {},
   "cell_type": "markdown",
   "metadata": {},
   "source": [
    "Merubah Value Y menjadi Value 1, merubah Value N menjadi Value 0"
   ]
  },
  {
   "cell_type": "code",
   "execution_count": 17,
   "metadata": {},
   "outputs": [],
   "source": [
    "df['tartar'] = df['tartar'].str.replace('N','0')\n",
    "df['tartar'] = df['tartar'].str.replace('Y','1')"
   ]
  },
  {
   "cell_type": "code",
   "execution_count": 18,
   "metadata": {},
   "outputs": [
    {
     "name": "stdout",
     "output_type": "stream",
     "text": [
      "0        1\n",
      "1        1\n",
      "2        0\n",
      "3        1\n",
      "4        0\n",
      "        ..\n",
      "55687    1\n",
      "55688    1\n",
      "55689    0\n",
      "55690    0\n",
      "55691    1\n",
      "Name: tartar, Length: 55692, dtype: object\n"
     ]
    }
   ],
   "source": [
    "print(df['tartar'])"
   ]
  },
  {
   "attachments": {},
   "cell_type": "markdown",
   "metadata": {},
   "source": [
    "Merubah dtype tartart, dari object ke int64"
   ]
  },
  {
   "cell_type": "code",
   "execution_count": 19,
   "metadata": {},
   "outputs": [],
   "source": [
    "df['tartar'] = pd.to_numeric(df['tartar'])"
   ]
  },
  {
   "cell_type": "code",
   "execution_count": 20,
   "metadata": {},
   "outputs": [
    {
     "name": "stdout",
     "output_type": "stream",
     "text": [
      "0        1\n",
      "1        1\n",
      "2        0\n",
      "3        1\n",
      "4        0\n",
      "        ..\n",
      "55687    1\n",
      "55688    1\n",
      "55689    0\n",
      "55690    0\n",
      "55691    1\n",
      "Name: tartar, Length: 55692, dtype: int64\n"
     ]
    }
   ],
   "source": [
    "print(df['tartar'])"
   ]
  },
  {
   "attachments": {},
   "cell_type": "markdown",
   "metadata": {},
   "source": [
    "Convert oral dtype"
   ]
  },
  {
   "cell_type": "code",
   "execution_count": 21,
   "metadata": {},
   "outputs": [
    {
     "name": "stdout",
     "output_type": "stream",
     "text": [
      "0        Y\n",
      "1        Y\n",
      "2        Y\n",
      "3        Y\n",
      "4        Y\n",
      "        ..\n",
      "55687    Y\n",
      "55688    Y\n",
      "55689    Y\n",
      "55690    Y\n",
      "55691    Y\n",
      "Name: oral, Length: 55692, dtype: object\n"
     ]
    }
   ],
   "source": [
    "print(df['oral'])"
   ]
  },
  {
   "cell_type": "markdown",
   "metadata": {},
   "source": [
    "Merubah Value Y menjadi Value 1, merubah Value N menjadi Value 0"
   ]
  },
  {
   "cell_type": "code",
   "execution_count": 22,
   "metadata": {},
   "outputs": [],
   "source": [
    "df['oral'] = df['oral'].str.replace('N','0')\n",
    "df['oral'] = df['oral'].str.replace('Y','1')"
   ]
  },
  {
   "attachments": {},
   "cell_type": "markdown",
   "metadata": {},
   "source": [
    "Merubah dtype oral, dari object ke int64"
   ]
  },
  {
   "cell_type": "code",
   "execution_count": 23,
   "metadata": {},
   "outputs": [],
   "source": [
    "df['oral'] = pd.to_numeric(df['oral'])"
   ]
  },
  {
   "cell_type": "code",
   "execution_count": 24,
   "metadata": {},
   "outputs": [
    {
     "name": "stdout",
     "output_type": "stream",
     "text": [
      "0        1\n",
      "1        1\n",
      "2        1\n",
      "3        1\n",
      "4        1\n",
      "        ..\n",
      "55687    1\n",
      "55688    1\n",
      "55689    1\n",
      "55690    1\n",
      "55691    1\n",
      "Name: oral, Length: 55692, dtype: int64\n"
     ]
    }
   ],
   "source": [
    "print(df['oral'])"
   ]
  },
  {
   "cell_type": "code",
   "execution_count": 25,
   "metadata": {},
   "outputs": [
    {
     "name": "stdout",
     "output_type": "stream",
     "text": [
      "<class 'pandas.core.frame.DataFrame'>\n",
      "RangeIndex: 55692 entries, 0 to 55691\n",
      "Data columns (total 27 columns):\n",
      " #   Column               Non-Null Count  Dtype  \n",
      "---  ------               --------------  -----  \n",
      " 0   ID                   55692 non-null  int64  \n",
      " 1   gender               55692 non-null  int64  \n",
      " 2   age                  55692 non-null  int64  \n",
      " 3   height               55692 non-null  int64  \n",
      " 4   weight               55692 non-null  int64  \n",
      " 5   waist                55692 non-null  float64\n",
      " 6   eyesight_left        55692 non-null  float64\n",
      " 7   eyesight_right       55692 non-null  float64\n",
      " 8   hearing_left         55692 non-null  float64\n",
      " 9   hearing_right        55692 non-null  float64\n",
      " 10  systolic             55692 non-null  float64\n",
      " 11  relaxation           55692 non-null  float64\n",
      " 12  fasting_blood_sugar  55692 non-null  float64\n",
      " 13  cholesterol          55692 non-null  float64\n",
      " 14  triglyceride         55692 non-null  float64\n",
      " 15  hdl                  55692 non-null  float64\n",
      " 16  ldl                  55692 non-null  float64\n",
      " 17  hemoglobin           55692 non-null  float64\n",
      " 18  urine_protein        55692 non-null  float64\n",
      " 19  serum_creatinine     55692 non-null  float64\n",
      " 20  ast                  55692 non-null  float64\n",
      " 21  alt                  55692 non-null  float64\n",
      " 22  gtp                  55692 non-null  float64\n",
      " 23  oral                 55692 non-null  int64  \n",
      " 24  dental_caries        55692 non-null  int64  \n",
      " 25  tartar               55692 non-null  int64  \n",
      " 26  smoking              55692 non-null  int64  \n",
      "dtypes: float64(18), int64(9)\n",
      "memory usage: 11.5 MB\n"
     ]
    }
   ],
   "source": [
    "df.info()"
   ]
  },
  {
   "attachments": {},
   "cell_type": "markdown",
   "metadata": {},
   "source": [
    "# Split feature and label"
   ]
  },
  {
   "cell_type": "code",
   "execution_count": 26,
   "metadata": {},
   "outputs": [
    {
     "data": {
      "text/plain": [
       "((55692, 25), (55692,))"
      ]
     },
     "execution_count": 26,
     "metadata": {},
     "output_type": "execute_result"
    }
   ],
   "source": [
    "features = ['gender','age','height','weight','waist','eyesight_left','eyesight_right','hearing_left','hearing_right','systolic','relaxation','fasting_blood_sugar','cholesterol','triglyceride','hdl','ldl','hemoglobin','urine_protein','serum_creatinine','ast','alt','gtp','oral','dental_caries','tartar']\n",
    "x = df[features]\n",
    "y = df['smoking']\n",
    "x.shape, y.shape"
   ]
  },
  {
   "cell_type": "code",
   "execution_count": 27,
   "metadata": {},
   "outputs": [
    {
     "name": "stdout",
     "output_type": "stream",
     "text": [
      "       gender  age  height  weight  waist  eyesight_left  eyesight_right  \\\n",
      "0           0   40     155      60   81.3            1.2             1.0   \n",
      "1           0   40     160      60   81.0            0.8             0.6   \n",
      "2           1   55     170      60   80.0            0.8             0.8   \n",
      "3           1   40     165      70   88.0            1.5             1.5   \n",
      "4           0   40     155      60   86.0            1.0             1.0   \n",
      "...       ...  ...     ...     ...    ...            ...             ...   \n",
      "55687       0   40     170      65   75.0            0.9             0.9   \n",
      "55688       0   45     160      50   70.0            1.2             1.2   \n",
      "55689       0   55     160      50   68.5            1.0             1.2   \n",
      "55690       1   60     165      60   78.0            0.8             1.0   \n",
      "55691       1   55     160      65   85.0            0.9             0.7   \n",
      "\n",
      "       hearing_left  hearing_right  systolic  ...    ldl  hemoglobin  \\\n",
      "0               1.0            1.0     114.0  ...  126.0        12.9   \n",
      "1               1.0            1.0     119.0  ...  127.0        12.7   \n",
      "2               1.0            1.0     138.0  ...  151.0        15.8   \n",
      "3               1.0            1.0     100.0  ...  226.0        14.7   \n",
      "4               1.0            1.0     120.0  ...  107.0        12.5   \n",
      "...             ...            ...       ...  ...    ...         ...   \n",
      "55687           1.0            1.0     110.0  ...  118.0        12.3   \n",
      "55688           1.0            1.0     101.0  ...   79.0        14.0   \n",
      "55689           1.0            1.0     117.0  ...   63.0        12.4   \n",
      "55690           1.0            1.0     133.0  ...  146.0        14.4   \n",
      "55691           1.0            1.0     124.0  ...  150.0        15.0   \n",
      "\n",
      "       urine_protein  serum_creatinine   ast   alt   gtp  oral  dental_caries  \\\n",
      "0                1.0               0.7  18.0  19.0  27.0     1              0   \n",
      "1                1.0               0.6  22.0  19.0  18.0     1              0   \n",
      "2                1.0               1.0  21.0  16.0  22.0     1              0   \n",
      "3                1.0               1.0  19.0  26.0  18.0     1              0   \n",
      "4                1.0               0.6  16.0  14.0  22.0     1              0   \n",
      "...              ...               ...   ...   ...   ...   ...            ...   \n",
      "55687            1.0               0.6  14.0   7.0  10.0     1              1   \n",
      "55688            1.0               0.9  20.0  12.0  14.0     1              0   \n",
      "55689            1.0               0.5  17.0  11.0  12.0     1              0   \n",
      "55690            1.0               0.7  20.0  19.0  18.0     1              0   \n",
      "55691            1.0               0.8  26.0  29.0  41.0     1              0   \n",
      "\n",
      "       tartar  \n",
      "0           1  \n",
      "1           1  \n",
      "2           0  \n",
      "3           1  \n",
      "4           0  \n",
      "...       ...  \n",
      "55687       1  \n",
      "55688       1  \n",
      "55689       0  \n",
      "55690       0  \n",
      "55691       1  \n",
      "\n",
      "[55692 rows x 25 columns]\n"
     ]
    }
   ],
   "source": [
    "print(x)"
   ]
  },
  {
   "cell_type": "code",
   "execution_count": 28,
   "metadata": {},
   "outputs": [
    {
     "name": "stdout",
     "output_type": "stream",
     "text": [
      "0        0\n",
      "1        0\n",
      "2        1\n",
      "3        0\n",
      "4        0\n",
      "        ..\n",
      "55687    0\n",
      "55688    0\n",
      "55689    0\n",
      "55690    0\n",
      "55691    1\n",
      "Name: smoking, Length: 55692, dtype: int64\n"
     ]
    }
   ],
   "source": [
    "print(y)"
   ]
  },
  {
   "attachments": {},
   "cell_type": "markdown",
   "metadata": {},
   "source": [
    "-----"
   ]
  },
  {
   "attachments": {},
   "cell_type": "markdown",
   "metadata": {},
   "source": [
    "# <font color='green'><b>Modeling</b></font>"
   ]
  },
  {
   "cell_type": "code",
   "execution_count": 29,
   "metadata": {},
   "outputs": [
    {
     "name": "stdout",
     "output_type": "stream",
     "text": [
      "       gender  age  height  weight  waist  eyesight_left  eyesight_right  \\\n",
      "0           0   40     155      60   81.3            1.2             1.0   \n",
      "1           0   40     160      60   81.0            0.8             0.6   \n",
      "2           1   55     170      60   80.0            0.8             0.8   \n",
      "3           1   40     165      70   88.0            1.5             1.5   \n",
      "4           0   40     155      60   86.0            1.0             1.0   \n",
      "...       ...  ...     ...     ...    ...            ...             ...   \n",
      "55687       0   40     170      65   75.0            0.9             0.9   \n",
      "55688       0   45     160      50   70.0            1.2             1.2   \n",
      "55689       0   55     160      50   68.5            1.0             1.2   \n",
      "55690       1   60     165      60   78.0            0.8             1.0   \n",
      "55691       1   55     160      65   85.0            0.9             0.7   \n",
      "\n",
      "       hearing_left  hearing_right  systolic  ...    ldl  hemoglobin  \\\n",
      "0               1.0            1.0     114.0  ...  126.0        12.9   \n",
      "1               1.0            1.0     119.0  ...  127.0        12.7   \n",
      "2               1.0            1.0     138.0  ...  151.0        15.8   \n",
      "3               1.0            1.0     100.0  ...  226.0        14.7   \n",
      "4               1.0            1.0     120.0  ...  107.0        12.5   \n",
      "...             ...            ...       ...  ...    ...         ...   \n",
      "55687           1.0            1.0     110.0  ...  118.0        12.3   \n",
      "55688           1.0            1.0     101.0  ...   79.0        14.0   \n",
      "55689           1.0            1.0     117.0  ...   63.0        12.4   \n",
      "55690           1.0            1.0     133.0  ...  146.0        14.4   \n",
      "55691           1.0            1.0     124.0  ...  150.0        15.0   \n",
      "\n",
      "       urine_protein  serum_creatinine   ast   alt   gtp  oral  dental_caries  \\\n",
      "0                1.0               0.7  18.0  19.0  27.0     1              0   \n",
      "1                1.0               0.6  22.0  19.0  18.0     1              0   \n",
      "2                1.0               1.0  21.0  16.0  22.0     1              0   \n",
      "3                1.0               1.0  19.0  26.0  18.0     1              0   \n",
      "4                1.0               0.6  16.0  14.0  22.0     1              0   \n",
      "...              ...               ...   ...   ...   ...   ...            ...   \n",
      "55687            1.0               0.6  14.0   7.0  10.0     1              1   \n",
      "55688            1.0               0.9  20.0  12.0  14.0     1              0   \n",
      "55689            1.0               0.5  17.0  11.0  12.0     1              0   \n",
      "55690            1.0               0.7  20.0  19.0  18.0     1              0   \n",
      "55691            1.0               0.8  26.0  29.0  41.0     1              0   \n",
      "\n",
      "       tartar  \n",
      "0           1  \n",
      "1           1  \n",
      "2           0  \n",
      "3           1  \n",
      "4           0  \n",
      "...       ...  \n",
      "55687       1  \n",
      "55688       1  \n",
      "55689       0  \n",
      "55690       0  \n",
      "55691       1  \n",
      "\n",
      "[55692 rows x 25 columns]\n",
      "0        0\n",
      "1        0\n",
      "2        1\n",
      "3        0\n",
      "4        0\n",
      "        ..\n",
      "55687    0\n",
      "55688    0\n",
      "55689    0\n",
      "55690    0\n",
      "55691    1\n",
      "Name: smoking, Length: 55692, dtype: int64\n"
     ]
    }
   ],
   "source": [
    "print(x)\n",
    "print(y)"
   ]
  },
  {
   "attachments": {},
   "cell_type": "markdown",
   "metadata": {},
   "source": [
    "# Split data testing and training"
   ]
  },
  {
   "cell_type": "code",
   "execution_count": 30,
   "metadata": {},
   "outputs": [],
   "source": [
    "x_train, x_test, y_train, y_test = train_test_split(x,y, test_size=0.2, stratify=y, random_state=2)"
   ]
  },
  {
   "cell_type": "code",
   "execution_count": 31,
   "metadata": {},
   "outputs": [
    {
     "name": "stdout",
     "output_type": "stream",
     "text": [
      "(55692, 25) (44553, 25) (11139, 25)\n"
     ]
    }
   ],
   "source": [
    "print(x.shape, x_train.shape, x_test.shape)"
   ]
  },
  {
   "attachments": {},
   "cell_type": "markdown",
   "metadata": {},
   "source": [
    "Membuat Logistic Regression Model"
   ]
  },
  {
   "cell_type": "code",
   "execution_count": 33,
   "metadata": {},
   "outputs": [],
   "source": [
    "lr = LogisticRegression()"
   ]
  },
  {
   "cell_type": "code",
   "execution_count": 34,
   "metadata": {},
   "outputs": [
    {
     "name": "stderr",
     "output_type": "stream",
     "text": [
      "c:\\Users\\bmkus\\anaconda3\\lib\\site-packages\\sklearn\\linear_model\\_logistic.py:458: ConvergenceWarning: lbfgs failed to converge (status=1):\n",
      "STOP: TOTAL NO. of ITERATIONS REACHED LIMIT.\n",
      "\n",
      "Increase the number of iterations (max_iter) or scale the data as shown in:\n",
      "    https://scikit-learn.org/stable/modules/preprocessing.html\n",
      "Please also refer to the documentation for alternative solver options:\n",
      "    https://scikit-learn.org/stable/modules/linear_model.html#logistic-regression\n",
      "  n_iter_i = _check_optimize_result(\n"
     ]
    },
    {
     "data": {
      "text/html": [
       "<style>#sk-container-id-1 {color: black;background-color: white;}#sk-container-id-1 pre{padding: 0;}#sk-container-id-1 div.sk-toggleable {background-color: white;}#sk-container-id-1 label.sk-toggleable__label {cursor: pointer;display: block;width: 100%;margin-bottom: 0;padding: 0.3em;box-sizing: border-box;text-align: center;}#sk-container-id-1 label.sk-toggleable__label-arrow:before {content: \"▸\";float: left;margin-right: 0.25em;color: #696969;}#sk-container-id-1 label.sk-toggleable__label-arrow:hover:before {color: black;}#sk-container-id-1 div.sk-estimator:hover label.sk-toggleable__label-arrow:before {color: black;}#sk-container-id-1 div.sk-toggleable__content {max-height: 0;max-width: 0;overflow: hidden;text-align: left;background-color: #f0f8ff;}#sk-container-id-1 div.sk-toggleable__content pre {margin: 0.2em;color: black;border-radius: 0.25em;background-color: #f0f8ff;}#sk-container-id-1 input.sk-toggleable__control:checked~div.sk-toggleable__content {max-height: 200px;max-width: 100%;overflow: auto;}#sk-container-id-1 input.sk-toggleable__control:checked~label.sk-toggleable__label-arrow:before {content: \"▾\";}#sk-container-id-1 div.sk-estimator input.sk-toggleable__control:checked~label.sk-toggleable__label {background-color: #d4ebff;}#sk-container-id-1 div.sk-label input.sk-toggleable__control:checked~label.sk-toggleable__label {background-color: #d4ebff;}#sk-container-id-1 input.sk-hidden--visually {border: 0;clip: rect(1px 1px 1px 1px);clip: rect(1px, 1px, 1px, 1px);height: 1px;margin: -1px;overflow: hidden;padding: 0;position: absolute;width: 1px;}#sk-container-id-1 div.sk-estimator {font-family: monospace;background-color: #f0f8ff;border: 1px dotted black;border-radius: 0.25em;box-sizing: border-box;margin-bottom: 0.5em;}#sk-container-id-1 div.sk-estimator:hover {background-color: #d4ebff;}#sk-container-id-1 div.sk-parallel-item::after {content: \"\";width: 100%;border-bottom: 1px solid gray;flex-grow: 1;}#sk-container-id-1 div.sk-label:hover label.sk-toggleable__label {background-color: #d4ebff;}#sk-container-id-1 div.sk-serial::before {content: \"\";position: absolute;border-left: 1px solid gray;box-sizing: border-box;top: 0;bottom: 0;left: 50%;z-index: 0;}#sk-container-id-1 div.sk-serial {display: flex;flex-direction: column;align-items: center;background-color: white;padding-right: 0.2em;padding-left: 0.2em;position: relative;}#sk-container-id-1 div.sk-item {position: relative;z-index: 1;}#sk-container-id-1 div.sk-parallel {display: flex;align-items: stretch;justify-content: center;background-color: white;position: relative;}#sk-container-id-1 div.sk-item::before, #sk-container-id-1 div.sk-parallel-item::before {content: \"\";position: absolute;border-left: 1px solid gray;box-sizing: border-box;top: 0;bottom: 0;left: 50%;z-index: -1;}#sk-container-id-1 div.sk-parallel-item {display: flex;flex-direction: column;z-index: 1;position: relative;background-color: white;}#sk-container-id-1 div.sk-parallel-item:first-child::after {align-self: flex-end;width: 50%;}#sk-container-id-1 div.sk-parallel-item:last-child::after {align-self: flex-start;width: 50%;}#sk-container-id-1 div.sk-parallel-item:only-child::after {width: 0;}#sk-container-id-1 div.sk-dashed-wrapped {border: 1px dashed gray;margin: 0 0.4em 0.5em 0.4em;box-sizing: border-box;padding-bottom: 0.4em;background-color: white;}#sk-container-id-1 div.sk-label label {font-family: monospace;font-weight: bold;display: inline-block;line-height: 1.2em;}#sk-container-id-1 div.sk-label-container {text-align: center;}#sk-container-id-1 div.sk-container {/* jupyter's `normalize.less` sets `[hidden] { display: none; }` but bootstrap.min.css set `[hidden] { display: none !important; }` so we also need the `!important` here to be able to override the default hidden behavior on the sphinx rendered scikit-learn.org. See: https://github.com/scikit-learn/scikit-learn/issues/21755 */display: inline-block !important;position: relative;}#sk-container-id-1 div.sk-text-repr-fallback {display: none;}</style><div id=\"sk-container-id-1\" class=\"sk-top-container\"><div class=\"sk-text-repr-fallback\"><pre>LogisticRegression()</pre><b>In a Jupyter environment, please rerun this cell to show the HTML representation or trust the notebook. <br />On GitHub, the HTML representation is unable to render, please try loading this page with nbviewer.org.</b></div><div class=\"sk-container\" hidden><div class=\"sk-item\"><div class=\"sk-estimator sk-toggleable\"><input class=\"sk-toggleable__control sk-hidden--visually\" id=\"sk-estimator-id-1\" type=\"checkbox\" checked><label for=\"sk-estimator-id-1\" class=\"sk-toggleable__label sk-toggleable__label-arrow\">LogisticRegression</label><div class=\"sk-toggleable__content\"><pre>LogisticRegression()</pre></div></div></div></div></div>"
      ],
      "text/plain": [
       "LogisticRegression()"
      ]
     },
     "execution_count": 34,
     "metadata": {},
     "output_type": "execute_result"
    }
   ],
   "source": [
    "lr.fit(x_train,y_train)"
   ]
  },
  {
   "attachments": {},
   "cell_type": "markdown",
   "metadata": {},
   "source": [
    "Evaluasi Model"
   ]
  },
  {
   "cell_type": "code",
   "execution_count": 35,
   "metadata": {},
   "outputs": [],
   "source": [
    "x_train_prediction = lr.predict(x_train)\n",
    "training_data_accuracy = accuracy_score(x_train_prediction, y_train)"
   ]
  },
  {
   "cell_type": "code",
   "execution_count": 36,
   "metadata": {},
   "outputs": [
    {
     "name": "stdout",
     "output_type": "stream",
     "text": [
      "Akurasi data training adalah:  0.7192108275537001\n"
     ]
    }
   ],
   "source": [
    "print('Akurasi data training adalah: ',training_data_accuracy)"
   ]
  },
  {
   "cell_type": "code",
   "execution_count": 38,
   "metadata": {},
   "outputs": [],
   "source": [
    "x_test_prediction = lr.predict(x_test)\n",
    "test_data_accuracy = accuracy_score(x_test_prediction, y_test)"
   ]
  },
  {
   "cell_type": "code",
   "execution_count": 39,
   "metadata": {},
   "outputs": [
    {
     "name": "stdout",
     "output_type": "stream",
     "text": [
      "Akurasi data testing adalah:  0.7192746207020378\n"
     ]
    }
   ],
   "source": [
    "print('Akurasi data testing adalah: ',test_data_accuracy)"
   ]
  },
  {
   "attachments": {},
   "cell_type": "markdown",
   "metadata": {},
   "source": [
    "Input data"
   ]
  },
  {
   "cell_type": "code",
   "execution_count": 48,
   "metadata": {},
   "outputs": [
    {
     "name": "stdout",
     "output_type": "stream",
     "text": [
      "[1]\n",
      "Pasien adalah perokok\n"
     ]
    },
    {
     "name": "stderr",
     "output_type": "stream",
     "text": [
      "c:\\Users\\bmkus\\anaconda3\\lib\\site-packages\\sklearn\\base.py:420: UserWarning: X does not have valid feature names, but LogisticRegression was fitted with feature names\n",
      "  warnings.warn(\n"
     ]
    }
   ],
   "source": [
    "input_data = (1,40,160,60,85.5,1.0,1.0,1.0,1.0,116.0,82.0,94.0,226.0,68.0,55.0,157.0,17.0,1.0,0.7,21.0,27.0,39.0,1,1,1)\n",
    "input_data_as_numpy_array = np.array(input_data)\n",
    "input_data_reshape = input_data_as_numpy_array.reshape(1,-1)\n",
    "\n",
    "\n",
    "pred = lr.predict(input_data_reshape)\n",
    "print(pred)\n",
    "\n",
    "if(pred[0] == 0):\n",
    "    print('Pasien bukan perokok')\n",
    "else :\n",
    "    print('Pasien adalah perokok')"
   ]
  },
  {
   "cell_type": "code",
   "execution_count": 49,
   "metadata": {},
   "outputs": [
    {
     "name": "stdout",
     "output_type": "stream",
     "text": [
      "[0]\n",
      "Pasien bukan perokok\n"
     ]
    },
    {
     "name": "stderr",
     "output_type": "stream",
     "text": [
      "c:\\Users\\bmkus\\anaconda3\\lib\\site-packages\\sklearn\\base.py:420: UserWarning: X does not have valid feature names, but LogisticRegression was fitted with feature names\n",
      "  warnings.warn(\n"
     ]
    }
   ],
   "source": [
    "input_data = (0,40,155,60,81.3,1.2,1.0,1.0,1.0,114.0,73.0,94.0,215.0,82.0,73.0,126.0,12.9,1.0,0.7,18.0,19.0,27.0,1,0,1)\n",
    "input_data_as_numpy_array = np.array(input_data)\n",
    "input_data_reshape = input_data_as_numpy_array.reshape(1,-1)\n",
    "\n",
    "\n",
    "pred = lr.predict(input_data_reshape)\n",
    "print(pred)\n",
    "\n",
    "if(pred[0] == 0):\n",
    "    print('Pasien bukan perokok')\n",
    "else :\n",
    "    print('Pasien adalah perokok')"
   ]
  },
  {
   "attachments": {},
   "cell_type": "markdown",
   "metadata": {},
   "source": [
    "-----"
   ]
  },
  {
   "attachments": {},
   "cell_type": "markdown",
   "metadata": {},
   "source": [
    "# <font color='green'><b>Deployment</b></font>"
   ]
  },
  {
   "cell_type": "code",
   "execution_count": 50,
   "metadata": {},
   "outputs": [],
   "source": [
    "import pickle"
   ]
  },
  {
   "cell_type": "code",
   "execution_count": 51,
   "metadata": {},
   "outputs": [],
   "source": [
    "filename = 'smoking_lr.sav'\n",
    "pickle.dump(lr,open(filename,'wb'))"
   ]
  },
  {
   "cell_type": "code",
   "execution_count": 46,
   "metadata": {},
   "outputs": [],
   "source": [
    "df['eyesight_left'] = df['eyesight_left'].astype(np.int64)"
   ]
  },
  {
   "cell_type": "code",
   "execution_count": 129,
   "metadata": {},
   "outputs": [
    {
     "name": "stdout",
     "output_type": "stream",
     "text": [
      "<class 'pandas.core.frame.DataFrame'>\n",
      "RangeIndex: 55692 entries, 0 to 55691\n",
      "Data columns (total 27 columns):\n",
      " #   Column               Non-Null Count  Dtype  \n",
      "---  ------               --------------  -----  \n",
      " 0   ID                   55692 non-null  int64  \n",
      " 1   gender               55692 non-null  int64  \n",
      " 2   age                  55692 non-null  int64  \n",
      " 3   height               55692 non-null  int64  \n",
      " 4   weight               55692 non-null  int64  \n",
      " 5   waist                55692 non-null  float64\n",
      " 6   eyesight_left        55692 non-null  int64  \n",
      " 7   eyesight_right       55692 non-null  float64\n",
      " 8   hearing_left         55692 non-null  float64\n",
      " 9   hearing_right        55692 non-null  float64\n",
      " 10  systolic             55692 non-null  float64\n",
      " 11  relaxation           55692 non-null  float64\n",
      " 12  fasting_blood_sugar  55692 non-null  float64\n",
      " 13  cholesterol          55692 non-null  float64\n",
      " 14  triglyceride         55692 non-null  float64\n",
      " 15  hdl                  55692 non-null  float64\n",
      " 16  ldl                  55692 non-null  float64\n",
      " 17  hemoglobin           55692 non-null  float64\n",
      " 18  urine_protein        55692 non-null  float64\n",
      " 19  serum_creatinine     55692 non-null  float64\n",
      " 20  ast                  55692 non-null  float64\n",
      " 21  alt                  55692 non-null  float64\n",
      " 22  gtp                  55692 non-null  float64\n",
      " 23  oral                 55692 non-null  int64  \n",
      " 24  dental_caries        55692 non-null  int64  \n",
      " 25  tartar               55692 non-null  int64  \n",
      " 26  smoking              55692 non-null  int64  \n",
      "dtypes: float64(17), int64(10)\n",
      "memory usage: 11.5 MB\n"
     ]
    }
   ],
   "source": [
    "df.info()"
   ]
  },
  {
   "cell_type": "code",
   "execution_count": 79,
   "metadata": {},
   "outputs": [
    {
     "data": {
      "text/html": [
       "<div>\n",
       "<style scoped>\n",
       "    .dataframe tbody tr th:only-of-type {\n",
       "        vertical-align: middle;\n",
       "    }\n",
       "\n",
       "    .dataframe tbody tr th {\n",
       "        vertical-align: top;\n",
       "    }\n",
       "\n",
       "    .dataframe thead th {\n",
       "        text-align: right;\n",
       "    }\n",
       "</style>\n",
       "<table border=\"1\" class=\"dataframe\">\n",
       "  <thead>\n",
       "    <tr style=\"text-align: right;\">\n",
       "      <th></th>\n",
       "      <th>ID</th>\n",
       "      <th>gender</th>\n",
       "      <th>age</th>\n",
       "      <th>height</th>\n",
       "      <th>weight</th>\n",
       "      <th>waist</th>\n",
       "      <th>eyesight_left</th>\n",
       "      <th>eyesight_right</th>\n",
       "      <th>hearing_left</th>\n",
       "      <th>hearing_right</th>\n",
       "      <th>...</th>\n",
       "      <th>hemoglobin</th>\n",
       "      <th>urine_protein</th>\n",
       "      <th>serum_creatinine</th>\n",
       "      <th>ast</th>\n",
       "      <th>alt</th>\n",
       "      <th>gtp</th>\n",
       "      <th>oral</th>\n",
       "      <th>dental_caries</th>\n",
       "      <th>tartar</th>\n",
       "      <th>smoking</th>\n",
       "    </tr>\n",
       "  </thead>\n",
       "  <tbody>\n",
       "    <tr>\n",
       "      <th>0</th>\n",
       "      <td>0</td>\n",
       "      <td>0</td>\n",
       "      <td>40</td>\n",
       "      <td>155</td>\n",
       "      <td>60</td>\n",
       "      <td>81.3</td>\n",
       "      <td>1.2</td>\n",
       "      <td>1.0</td>\n",
       "      <td>1.0</td>\n",
       "      <td>1.0</td>\n",
       "      <td>...</td>\n",
       "      <td>12.9</td>\n",
       "      <td>1.0</td>\n",
       "      <td>0.7</td>\n",
       "      <td>18.0</td>\n",
       "      <td>19.0</td>\n",
       "      <td>27.0</td>\n",
       "      <td>1</td>\n",
       "      <td>0</td>\n",
       "      <td>1</td>\n",
       "      <td>0</td>\n",
       "    </tr>\n",
       "    <tr>\n",
       "      <th>1</th>\n",
       "      <td>1</td>\n",
       "      <td>0</td>\n",
       "      <td>40</td>\n",
       "      <td>160</td>\n",
       "      <td>60</td>\n",
       "      <td>81.0</td>\n",
       "      <td>0.8</td>\n",
       "      <td>0.6</td>\n",
       "      <td>1.0</td>\n",
       "      <td>1.0</td>\n",
       "      <td>...</td>\n",
       "      <td>12.7</td>\n",
       "      <td>1.0</td>\n",
       "      <td>0.6</td>\n",
       "      <td>22.0</td>\n",
       "      <td>19.0</td>\n",
       "      <td>18.0</td>\n",
       "      <td>1</td>\n",
       "      <td>0</td>\n",
       "      <td>1</td>\n",
       "      <td>0</td>\n",
       "    </tr>\n",
       "    <tr>\n",
       "      <th>2</th>\n",
       "      <td>2</td>\n",
       "      <td>1</td>\n",
       "      <td>55</td>\n",
       "      <td>170</td>\n",
       "      <td>60</td>\n",
       "      <td>80.0</td>\n",
       "      <td>0.8</td>\n",
       "      <td>0.8</td>\n",
       "      <td>1.0</td>\n",
       "      <td>1.0</td>\n",
       "      <td>...</td>\n",
       "      <td>15.8</td>\n",
       "      <td>1.0</td>\n",
       "      <td>1.0</td>\n",
       "      <td>21.0</td>\n",
       "      <td>16.0</td>\n",
       "      <td>22.0</td>\n",
       "      <td>1</td>\n",
       "      <td>0</td>\n",
       "      <td>0</td>\n",
       "      <td>1</td>\n",
       "    </tr>\n",
       "    <tr>\n",
       "      <th>3</th>\n",
       "      <td>3</td>\n",
       "      <td>1</td>\n",
       "      <td>40</td>\n",
       "      <td>165</td>\n",
       "      <td>70</td>\n",
       "      <td>88.0</td>\n",
       "      <td>1.5</td>\n",
       "      <td>1.5</td>\n",
       "      <td>1.0</td>\n",
       "      <td>1.0</td>\n",
       "      <td>...</td>\n",
       "      <td>14.7</td>\n",
       "      <td>1.0</td>\n",
       "      <td>1.0</td>\n",
       "      <td>19.0</td>\n",
       "      <td>26.0</td>\n",
       "      <td>18.0</td>\n",
       "      <td>1</td>\n",
       "      <td>0</td>\n",
       "      <td>1</td>\n",
       "      <td>0</td>\n",
       "    </tr>\n",
       "    <tr>\n",
       "      <th>4</th>\n",
       "      <td>4</td>\n",
       "      <td>0</td>\n",
       "      <td>40</td>\n",
       "      <td>155</td>\n",
       "      <td>60</td>\n",
       "      <td>86.0</td>\n",
       "      <td>1.0</td>\n",
       "      <td>1.0</td>\n",
       "      <td>1.0</td>\n",
       "      <td>1.0</td>\n",
       "      <td>...</td>\n",
       "      <td>12.5</td>\n",
       "      <td>1.0</td>\n",
       "      <td>0.6</td>\n",
       "      <td>16.0</td>\n",
       "      <td>14.0</td>\n",
       "      <td>22.0</td>\n",
       "      <td>1</td>\n",
       "      <td>0</td>\n",
       "      <td>0</td>\n",
       "      <td>0</td>\n",
       "    </tr>\n",
       "  </tbody>\n",
       "</table>\n",
       "<p>5 rows × 27 columns</p>\n",
       "</div>"
      ],
      "text/plain": [
       "   ID  gender  age  height  weight  waist  eyesight_left  eyesight_right  \\\n",
       "0   0       0   40     155      60   81.3            1.2             1.0   \n",
       "1   1       0   40     160      60   81.0            0.8             0.6   \n",
       "2   2       1   55     170      60   80.0            0.8             0.8   \n",
       "3   3       1   40     165      70   88.0            1.5             1.5   \n",
       "4   4       0   40     155      60   86.0            1.0             1.0   \n",
       "\n",
       "   hearing_left  hearing_right  ...  hemoglobin  urine_protein  \\\n",
       "0           1.0            1.0  ...        12.9            1.0   \n",
       "1           1.0            1.0  ...        12.7            1.0   \n",
       "2           1.0            1.0  ...        15.8            1.0   \n",
       "3           1.0            1.0  ...        14.7            1.0   \n",
       "4           1.0            1.0  ...        12.5            1.0   \n",
       "\n",
       "   serum_creatinine   ast   alt   gtp  oral  dental_caries  tartar  smoking  \n",
       "0               0.7  18.0  19.0  27.0     1              0       1        0  \n",
       "1               0.6  22.0  19.0  18.0     1              0       1        0  \n",
       "2               1.0  21.0  16.0  22.0     1              0       0        1  \n",
       "3               1.0  19.0  26.0  18.0     1              0       1        0  \n",
       "4               0.6  16.0  14.0  22.0     1              0       0        0  \n",
       "\n",
       "[5 rows x 27 columns]"
      ]
     },
     "execution_count": 79,
     "metadata": {},
     "output_type": "execute_result"
    }
   ],
   "source": [
    "df.head()"
   ]
  }
 ],
 "metadata": {
  "kernelspec": {
   "display_name": "base",
   "language": "python",
   "name": "python3"
  },
  "language_info": {
   "codemirror_mode": {
    "name": "ipython",
    "version": 3
   },
   "file_extension": ".py",
   "mimetype": "text/x-python",
   "name": "python",
   "nbconvert_exporter": "python",
   "pygments_lexer": "ipython3",
   "version": "3.10.9"
  },
  "orig_nbformat": 4
 },
 "nbformat": 4,
 "nbformat_minor": 2
}
